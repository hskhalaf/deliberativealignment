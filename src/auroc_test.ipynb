{
 "cells": [
  {
   "cell_type": "code",
   "execution_count": 7,
   "metadata": {},
   "outputs": [],
   "source": [
    "import os\n",
    "from transformers import LlamaForSequenceClassification\n",
    "from sklearn.metrics import roc_auc_score\n",
    "import torch\n",
    "from tqdm import tqdm\n",
    "\n",
    "def compute_auroc_for_checkpoints(checkpoint_dir, tokenizer, eval_dataset):\n",
    "    checkpoint_paths = sorted(\n",
    "        [os.path.join(checkpoint_dir, d) for d in os.listdir(checkpoint_dir) if d.startswith(\"checkpoint-\")],\n",
    "        key=lambda x: int(x.split(\"-\")[-1])\n",
    "    )\n",
    "\n",
    "    auroc_scores = {}\n",
    "\n",
    "    for checkpoint_path in tqdm(checkpoint_paths, desc=\"Evaluating checkpoints\"):\n",
    "        try:\n",
    "            # 모델 로드\n",
    "            model = LlamaForSequenceClassification.from_pretrained(\n",
    "                checkpoint_path,\n",
    "                num_labels=2,\n",
    "                torch_dtype=torch.bfloat16,\n",
    "                device_map=\"auto\"\n",
    "            )\n",
    "            model.eval()\n",
    "\n",
    "            # DataLoader\n",
    "            dataloader = torch.utils.data.DataLoader(eval_dataset, batch_size=4)  # 배치 사이즈 조절 가능\n",
    "            all_preds, all_labels = [], []\n",
    "\n",
    "            for batch in dataloader:\n",
    "                input_ids = batch['input_ids'].to(model.device)\n",
    "                attention_mask = batch['attention_mask'].to(model.device)\n",
    "                labels = batch['labels'].cpu().numpy()\n",
    "\n",
    "                with torch.no_grad():\n",
    "                    outputs = model(input_ids=input_ids, attention_mask=attention_mask)\n",
    "                    probs = torch.softmax(outputs.logits, dim=-1)[:, 1].detach().cpu().numpy()\n",
    "\n",
    "                all_preds.extend(probs)\n",
    "                all_labels.extend(labels)\n",
    "\n",
    "            auroc = roc_auc_score(all_labels, all_preds)\n",
    "            step = checkpoint_path.split(\"-\")[-1]\n",
    "            auroc_scores[step] = auroc\n",
    "            print(f\"[checkpoint-{step}] AUROC: {auroc:.4f}\")\n",
    "        except Exception as e:\n",
    "            print(f\"⚠️ Failed to evaluate {checkpoint_path}: {e}\")\n",
    "            continue\n",
    "\n",
    "    return auroc_scores"
   ]
  },
  {
   "cell_type": "code",
   "execution_count": 12,
   "metadata": {},
   "outputs": [
    {
     "name": "stderr",
     "output_type": "stream",
     "text": [
      "Casting the dataset: 100%|██████████| 1733/1733 [00:00<00:00, 80281.08 examples/s]\n",
      "Map: 100%|██████████| 1386/1386 [00:05<00:00, 256.92 examples/s]\n",
      "Map: 100%|██████████| 173/173 [00:00<00:00, 308.14 examples/s]\n",
      "Map: 100%|██████████| 174/174 [00:00<00:00, 288.52 examples/s]\n",
      "Evaluating checkpoints: 0it [00:00, ?it/s]\n"
     ]
    },
    {
     "name": "stdout",
     "output_type": "stream",
     "text": [
      "{}\n"
     ]
    },
    {
     "name": "stderr",
     "output_type": "stream",
     "text": [
      "Fetching 4 files: 100%|██████████| 4/4 [00:00<00:00, 388.51it/s]\n",
      "Loading checkpoint shards: 100%|██████████| 4/4 [00:02<00:00,  1.81it/s]\n",
      "Some weights of LlamaForSequenceClassification were not initialized from the model checkpoint at meta-llama/Meta-Llama-3-8B and are newly initialized: ['score.weight']\n",
      "You should probably TRAIN this model on a down-stream task to be able to use it for predictions and inference.\n",
      "Loading checkpoint shards: 100%|██████████| 4/4 [00:02<00:00,  1.75it/s]\n",
      "Some weights of LlamaForSequenceClassification were not initialized from the model checkpoint at meta-llama/Meta-Llama-3-8B and are newly initialized: ['score.weight']\n",
      "You should probably TRAIN this model on a down-stream task to be able to use it for predictions and inference.\n"
     ]
    },
    {
     "ename": "ValueError",
     "evalue": "max() arg is an empty sequence",
     "output_type": "error",
     "traceback": [
      "\u001b[0;31m---------------------------------------------------------------------------\u001b[0m",
      "\u001b[0;31mValueError\u001b[0m                                Traceback (most recent call last)",
      "Cell \u001b[0;32mIn[12], line 100\u001b[0m\n\u001b[1;32m     97\u001b[0m     json\u001b[38;5;241m.\u001b[39mdump(auroc_scores, f, indent\u001b[38;5;241m=\u001b[39m\u001b[38;5;241m2\u001b[39m)\n\u001b[1;32m     99\u001b[0m \u001b[38;5;66;03m# 베스트 체크포인트 출력\u001b[39;00m\n\u001b[0;32m--> 100\u001b[0m best_step \u001b[38;5;241m=\u001b[39m \u001b[38;5;28;43mmax\u001b[39;49m\u001b[43m(\u001b[49m\u001b[43mauroc_scores\u001b[49m\u001b[43m,\u001b[49m\u001b[43m \u001b[49m\u001b[43mkey\u001b[49m\u001b[38;5;241;43m=\u001b[39;49m\u001b[43mauroc_scores\u001b[49m\u001b[38;5;241;43m.\u001b[39;49m\u001b[43mget\u001b[49m\u001b[43m)\u001b[49m\n\u001b[1;32m    101\u001b[0m \u001b[38;5;28mprint\u001b[39m(\u001b[38;5;124mf\u001b[39m\u001b[38;5;124m\"\u001b[39m\u001b[38;5;130;01m\\n\u001b[39;00m\u001b[38;5;124m✅ Best checkpoint: checkpoint-\u001b[39m\u001b[38;5;132;01m{\u001b[39;00mbest_step\u001b[38;5;132;01m}\u001b[39;00m\u001b[38;5;124m with AUROC: \u001b[39m\u001b[38;5;132;01m{\u001b[39;00mauroc_scores[best_step]\u001b[38;5;132;01m:\u001b[39;00m\u001b[38;5;124m.4f\u001b[39m\u001b[38;5;132;01m}\u001b[39;00m\u001b[38;5;124m\"\u001b[39m)\n",
      "\u001b[0;31mValueError\u001b[0m: max() arg is an empty sequence"
     ]
    }
   ],
   "source": [
    "\n",
    "from transformers import AutoTokenizer\n",
    "import pandas as pd\n",
    "from datasets import Dataset, DatasetDict, ClassLabel\n",
    "import json\n",
    "import pickle\n",
    "from sklearn.metrics import roc_auc_score\n",
    "from transformers import LlamaTokenizer, LlamaForSequenceClassification, TrainingArguments, Trainer, TrainerCallback,TrainerState, TrainerControl\n",
    "from peft import get_peft_model, LoraConfig, TaskType\n",
    "\n",
    "\n",
    "model_name = \"meta-llama/Meta-Llama-3-8B\"\n",
    "tokenizer = AutoTokenizer.from_pretrained(model_name)\n",
    "tokenizer.pad_token = tokenizer.eos_token\n",
    "\n",
    "\n",
    "path = '../results/deepseek-ai/'\n",
    "model = 'deepseek-r1-distill-qwen-14b'\n",
    "hash_map = {}\n",
    "cnt = 0\n",
    "reasonings = []\n",
    "\n",
    "with open(path + model + '_label.pkl', 'rb') as f:\n",
    "    labels = pickle.load(f)\n",
    "\n",
    "new_labels = []\n",
    "with open(path + model + '.jsonl', 'r') as f:\n",
    "    for i, line in enumerate(f):\n",
    "        data = json.loads(line)\n",
    "        question, answer, output, reasoning = data['question'], data['expected_output'], data['response'], data['reasoning']\n",
    "        if question == None or output == None or reasoning == None:\n",
    "            continue\n",
    "        cnt += 1\n",
    "        reasonings.append(data['reasoning'])\n",
    "        new_labels.append(labels[cnt])\n",
    "\n",
    "data_dict = {\"text\": reasonings, \"label\": new_labels}\n",
    "\n",
    "raw_dataset = Dataset.from_dict(data_dict)\n",
    "\n",
    "features = raw_dataset.features.copy()\n",
    "features[\"label\"] = ClassLabel(names=[\"negative\", \"positive\"])  # 혹은 0/1이면 이렇게\n",
    "\n",
    "raw_dataset = raw_dataset.cast(features)\n",
    "raw_dataset = raw_dataset.rename_column(\"label\", \"labels\")\n",
    "\n",
    "train_valtest = raw_dataset.train_test_split(test_size=0.2, seed=42, stratify_by_column=\"labels\")\n",
    "val_test = train_valtest['test'].train_test_split(test_size=0.5, seed=42, stratify_by_column=\"labels\")\n",
    "\n",
    "# wrap in DatasetDict\n",
    "dataset = DatasetDict({\n",
    "    'train': train_valtest['train'],\n",
    "    'validation': val_test['train'],\n",
    "    'test': val_test['test'],\n",
    "})\n",
    "max_length = 8096\n",
    "dataset = dataset.map(lambda e: tokenizer(e['text'], truncation=True, padding='max_length', max_length=max_length), batched=True)\n",
    "dataset.set_format(type='torch', columns=['input_ids', 'attention_mask', 'labels'])\n",
    "\n",
    "eval_dataset = dataset[\"test\"]\n",
    "\n"
   ]
  },
  {
   "cell_type": "code",
   "execution_count": 13,
   "metadata": {},
   "outputs": [
    {
     "name": "stderr",
     "output_type": "stream",
     "text": [
      "Evaluating checkpoints: 0it [00:00, ?it/s]\n"
     ]
    },
    {
     "name": "stdout",
     "output_type": "stream",
     "text": [
      "{}\n"
     ]
    },
    {
     "name": "stderr",
     "output_type": "stream",
     "text": [
      "Fetching 4 files: 100%|██████████| 4/4 [00:00<00:00, 539.23it/s]\n",
      "Loading checkpoint shards: 100%|██████████| 4/4 [00:02<00:00,  1.81it/s]\n",
      "Some weights of LlamaForSequenceClassification were not initialized from the model checkpoint at meta-llama/Meta-Llama-3-8B and are newly initialized: ['score.weight']\n",
      "You should probably TRAIN this model on a down-stream task to be able to use it for predictions and inference.\n",
      "Loading checkpoint shards: 100%|██████████| 4/4 [00:02<00:00,  1.74it/s]\n",
      "Some weights of LlamaForSequenceClassification were not initialized from the model checkpoint at meta-llama/Meta-Llama-3-8B and are newly initialized: ['score.weight']\n",
      "You should probably TRAIN this model on a down-stream task to be able to use it for predictions and inference.\n"
     ]
    },
    {
     "ename": "ValueError",
     "evalue": "max() arg is an empty sequence",
     "output_type": "error",
     "traceback": [
      "\u001b[0;31m---------------------------------------------------------------------------\u001b[0m",
      "\u001b[0;31mValueError\u001b[0m                                Traceback (most recent call last)",
      "Cell \u001b[0;32mIn[13], line 40\u001b[0m\n\u001b[1;32m     37\u001b[0m     json\u001b[38;5;241m.\u001b[39mdump(auroc_scores, f, indent\u001b[38;5;241m=\u001b[39m\u001b[38;5;241m2\u001b[39m)\n\u001b[1;32m     39\u001b[0m \u001b[38;5;66;03m# 베스트 체크포인트 출력\u001b[39;00m\n\u001b[0;32m---> 40\u001b[0m best_step \u001b[38;5;241m=\u001b[39m \u001b[38;5;28;43mmax\u001b[39;49m\u001b[43m(\u001b[49m\u001b[43mauroc_scores\u001b[49m\u001b[43m,\u001b[49m\u001b[43m \u001b[49m\u001b[43mkey\u001b[49m\u001b[38;5;241;43m=\u001b[39;49m\u001b[43mauroc_scores\u001b[49m\u001b[38;5;241;43m.\u001b[39;49m\u001b[43mget\u001b[49m\u001b[43m)\u001b[49m\n\u001b[1;32m     41\u001b[0m \u001b[38;5;28mprint\u001b[39m(\u001b[38;5;124mf\u001b[39m\u001b[38;5;124m\"\u001b[39m\u001b[38;5;130;01m\\n\u001b[39;00m\u001b[38;5;124m✅ Best checkpoint: checkpoint-\u001b[39m\u001b[38;5;132;01m{\u001b[39;00mbest_step\u001b[38;5;132;01m}\u001b[39;00m\u001b[38;5;124m with AUROC: \u001b[39m\u001b[38;5;132;01m{\u001b[39;00mauroc_scores[best_step]\u001b[38;5;132;01m:\u001b[39;00m\u001b[38;5;124m.4f\u001b[39m\u001b[38;5;132;01m}\u001b[39;00m\u001b[38;5;124m\"\u001b[39m)\n",
      "\u001b[0;31mValueError\u001b[0m: max() arg is an empty sequence"
     ]
    }
   ],
   "source": [
    "checkpoint_dir = \"/home/sangwon/deliberativealignment/llama-binary-cls/checkpoint-13860\"\n",
    "# predictions = trainer.predict(eval_dataset)\n",
    "auroc_scores = compute_auroc_for_checkpoints(checkpoint_dir, tokenizer, eval_dataset)\n",
    "print(auroc_scores)\n",
    "\n",
    "base_model = LlamaForSequenceClassification.from_pretrained(\n",
    "    checkpoint_dir,\n",
    "    num_labels=2,\n",
    "    torch_dtype=torch.float16,\n",
    "    device_map=\"auto\"  \n",
    ")\n",
    "base_model.config.pad_token_id = tokenizer.pad_token_id\n",
    "\n",
    "# ========== 3. Setting Lora ==========\n",
    "peft_config = LoraConfig(\n",
    "    task_type=TaskType.SEQ_CLS, \n",
    "    inference_mode=False,\n",
    "    r=8,\n",
    "    lora_alpha=16,\n",
    "    lora_dropout=0.1,\n",
    "    target_modules=[\"q_proj\", \"v_proj\"]  # Set proper modules for Llama\n",
    ")\n",
    "\n",
    "model = get_peft_model(base_model, peft_config)\n",
    "model = model.bfloat16()\n",
    "model.eval()\n",
    "\n",
    "\n",
    "best_step = max(auroc_scores, key=auroc_scores.get)\n",
    "print(f\"\\n✅ Best checkpoint: checkpoint-{best_step} with AUROC: {auroc_scores[best_step]:.4f}\")"
   ]
  },
  {
   "cell_type": "code",
   "execution_count": 16,
   "metadata": {},
   "outputs": [
    {
     "ename": "FileNotFoundError",
     "evalue": "[Errno 2] No such file or directory: '/home/sangwon/deliberativealignment/llama-binary-cls/checkpoint-13860/pytorch_model.bin'",
     "output_type": "error",
     "traceback": [
      "\u001b[0;31m---------------------------------------------------------------------------\u001b[0m",
      "\u001b[0;31mFileNotFoundError\u001b[0m                         Traceback (most recent call last)",
      "Cell \u001b[0;32mIn[16], line 1\u001b[0m\n\u001b[0;32m----> 1\u001b[0m model\u001b[38;5;241m.\u001b[39mload_state_dict(\u001b[43mtorch\u001b[49m\u001b[38;5;241;43m.\u001b[39;49m\u001b[43mload\u001b[49m\u001b[43m(\u001b[49m\u001b[43mos\u001b[49m\u001b[38;5;241;43m.\u001b[39;49m\u001b[43mpath\u001b[49m\u001b[38;5;241;43m.\u001b[39;49m\u001b[43mjoin\u001b[49m\u001b[43m(\u001b[49m\u001b[43mcheckpoint_dir\u001b[49m\u001b[43m,\u001b[49m\u001b[43m \u001b[49m\u001b[38;5;124;43m\"\u001b[39;49m\u001b[38;5;124;43mpytorch_model.bin\u001b[39;49m\u001b[38;5;124;43m\"\u001b[39;49m\u001b[43m)\u001b[49m\u001b[43m)\u001b[49m)\n",
      "File \u001b[0;32m~/miniconda3/envs/env/lib/python3.10/site-packages/torch/serialization.py:1425\u001b[0m, in \u001b[0;36mload\u001b[0;34m(f, map_location, pickle_module, weights_only, mmap, **pickle_load_args)\u001b[0m\n\u001b[1;32m   1422\u001b[0m \u001b[38;5;28;01mif\u001b[39;00m \u001b[38;5;124m\"\u001b[39m\u001b[38;5;124mencoding\u001b[39m\u001b[38;5;124m\"\u001b[39m \u001b[38;5;129;01mnot\u001b[39;00m \u001b[38;5;129;01min\u001b[39;00m pickle_load_args\u001b[38;5;241m.\u001b[39mkeys():\n\u001b[1;32m   1423\u001b[0m     pickle_load_args[\u001b[38;5;124m\"\u001b[39m\u001b[38;5;124mencoding\u001b[39m\u001b[38;5;124m\"\u001b[39m] \u001b[38;5;241m=\u001b[39m \u001b[38;5;124m\"\u001b[39m\u001b[38;5;124mutf-8\u001b[39m\u001b[38;5;124m\"\u001b[39m\n\u001b[0;32m-> 1425\u001b[0m \u001b[38;5;28;01mwith\u001b[39;00m \u001b[43m_open_file_like\u001b[49m\u001b[43m(\u001b[49m\u001b[43mf\u001b[49m\u001b[43m,\u001b[49m\u001b[43m \u001b[49m\u001b[38;5;124;43m\"\u001b[39;49m\u001b[38;5;124;43mrb\u001b[39;49m\u001b[38;5;124;43m\"\u001b[39;49m\u001b[43m)\u001b[49m \u001b[38;5;28;01mas\u001b[39;00m opened_file:\n\u001b[1;32m   1426\u001b[0m     \u001b[38;5;28;01mif\u001b[39;00m _is_zipfile(opened_file):\n\u001b[1;32m   1427\u001b[0m         \u001b[38;5;66;03m# The zipfile reader is going to advance the current file position.\u001b[39;00m\n\u001b[1;32m   1428\u001b[0m         \u001b[38;5;66;03m# If we want to actually tail call to torch.jit.load, we need to\u001b[39;00m\n\u001b[1;32m   1429\u001b[0m         \u001b[38;5;66;03m# reset back to the original position.\u001b[39;00m\n\u001b[1;32m   1430\u001b[0m         orig_position \u001b[38;5;241m=\u001b[39m opened_file\u001b[38;5;241m.\u001b[39mtell()\n",
      "File \u001b[0;32m~/miniconda3/envs/env/lib/python3.10/site-packages/torch/serialization.py:751\u001b[0m, in \u001b[0;36m_open_file_like\u001b[0;34m(name_or_buffer, mode)\u001b[0m\n\u001b[1;32m    749\u001b[0m \u001b[38;5;28;01mdef\u001b[39;00m\u001b[38;5;250m \u001b[39m\u001b[38;5;21m_open_file_like\u001b[39m(name_or_buffer, mode):\n\u001b[1;32m    750\u001b[0m     \u001b[38;5;28;01mif\u001b[39;00m _is_path(name_or_buffer):\n\u001b[0;32m--> 751\u001b[0m         \u001b[38;5;28;01mreturn\u001b[39;00m \u001b[43m_open_file\u001b[49m\u001b[43m(\u001b[49m\u001b[43mname_or_buffer\u001b[49m\u001b[43m,\u001b[49m\u001b[43m \u001b[49m\u001b[43mmode\u001b[49m\u001b[43m)\u001b[49m\n\u001b[1;32m    752\u001b[0m     \u001b[38;5;28;01melse\u001b[39;00m:\n\u001b[1;32m    753\u001b[0m         \u001b[38;5;28;01mif\u001b[39;00m \u001b[38;5;124m\"\u001b[39m\u001b[38;5;124mw\u001b[39m\u001b[38;5;124m\"\u001b[39m \u001b[38;5;129;01min\u001b[39;00m mode:\n",
      "File \u001b[0;32m~/miniconda3/envs/env/lib/python3.10/site-packages/torch/serialization.py:732\u001b[0m, in \u001b[0;36m_open_file.__init__\u001b[0;34m(self, name, mode)\u001b[0m\n\u001b[1;32m    731\u001b[0m \u001b[38;5;28;01mdef\u001b[39;00m\u001b[38;5;250m \u001b[39m\u001b[38;5;21m__init__\u001b[39m(\u001b[38;5;28mself\u001b[39m, name, mode):\n\u001b[0;32m--> 732\u001b[0m     \u001b[38;5;28msuper\u001b[39m()\u001b[38;5;241m.\u001b[39m\u001b[38;5;21m__init__\u001b[39m(\u001b[38;5;28;43mopen\u001b[39;49m\u001b[43m(\u001b[49m\u001b[43mname\u001b[49m\u001b[43m,\u001b[49m\u001b[43m \u001b[49m\u001b[43mmode\u001b[49m\u001b[43m)\u001b[49m)\n",
      "\u001b[0;31mFileNotFoundError\u001b[0m: [Errno 2] No such file or directory: '/home/sangwon/deliberativealignment/llama-binary-cls/checkpoint-13860/pytorch_model.bin'"
     ]
    }
   ],
   "source": [
    "model.loa"
   ]
  }
 ],
 "metadata": {
  "kernelspec": {
   "display_name": "env",
   "language": "python",
   "name": "python3"
  },
  "language_info": {
   "codemirror_mode": {
    "name": "ipython",
    "version": 3
   },
   "file_extension": ".py",
   "mimetype": "text/x-python",
   "name": "python",
   "nbconvert_exporter": "python",
   "pygments_lexer": "ipython3",
   "version": "3.10.16"
  }
 },
 "nbformat": 4,
 "nbformat_minor": 2
}
